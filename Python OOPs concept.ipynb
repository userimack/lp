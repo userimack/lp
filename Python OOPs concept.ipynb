{
 "cells": [
  {
   "cell_type": "code",
   "execution_count": 14,
   "metadata": {},
   "outputs": [],
   "source": [
    "class Customer(object):\n",
    "    \"\"\"A customer of ABC Bank with a checking account. Customers have the\n",
    "    following properties:\n",
    "\n",
    "    Attributes:\n",
    "        name: A string representing the customer's name.\n",
    "        balance: A float tracking the current balance of the customer's account.\n",
    "    \"\"\"\n",
    "\n",
    "    def __init__(self, name, balance=0.0):\n",
    "        \"\"\"Return a Customer object whose name is *name* and starting\n",
    "        balance is *balance*.\"\"\"\n",
    "        self.name = name\n",
    "        self.balance = balance\n",
    "\n",
    "    def withdraw(self, amount):\n",
    "        \"\"\"Return the balance remaining after withdrawing *amount*\n",
    "        dollars.\"\"\"\n",
    "        if amount > self.balance:\n",
    "            raise RuntimeError('Amount greater than available balance.')\n",
    "        self.balance -= amount\n",
    "        return self.balance\n",
    "\n",
    "    def deposit(self, amount):\n",
    "        \"\"\"Return the balance remaining after depositing *amount*\n",
    "        dollars.\"\"\"\n",
    "        self.balance += amount\n",
    "        return self.balance\n",
    "    "
   ]
  },
  {
   "cell_type": "code",
   "execution_count": 15,
   "metadata": {},
   "outputs": [],
   "source": [
    "customer = Customer(\"Mahendra\")"
   ]
  },
  {
   "cell_type": "code",
   "execution_count": 16,
   "metadata": {},
   "outputs": [
    {
     "data": {
      "text/plain": [
       "0.0"
      ]
     },
     "execution_count": 16,
     "metadata": {},
     "output_type": "execute_result"
    }
   ],
   "source": [
    "customer.balance"
   ]
  },
  {
   "cell_type": "code",
   "execution_count": 17,
   "metadata": {},
   "outputs": [
    {
     "data": {
      "text/plain": [
       "500000.0"
      ]
     },
     "execution_count": 17,
     "metadata": {},
     "output_type": "execute_result"
    }
   ],
   "source": [
    "customer.deposit(500000)"
   ]
  },
  {
   "cell_type": "code",
   "execution_count": 18,
   "metadata": {},
   "outputs": [
    {
     "ename": "RuntimeError",
     "evalue": "Amount greater than available balance.",
     "output_type": "error",
     "traceback": [
      "\u001b[0;31m---------------------------------------------------------------------------\u001b[0m",
      "\u001b[0;31mRuntimeError\u001b[0m                              Traceback (most recent call last)",
      "\u001b[0;32m<ipython-input-18-00faf7553d36>\u001b[0m in \u001b[0;36m<module>\u001b[0;34m()\u001b[0m\n\u001b[0;32m----> 1\u001b[0;31m \u001b[0mcustomer\u001b[0m\u001b[0;34m.\u001b[0m\u001b[0mwithdraw\u001b[0m\u001b[0;34m(\u001b[0m\u001b[0;36m500000000\u001b[0m\u001b[0;34m)\u001b[0m\u001b[0;34m\u001b[0m\u001b[0m\n\u001b[0m",
      "\u001b[0;32m<ipython-input-14-b83984683ea2>\u001b[0m in \u001b[0;36mwithdraw\u001b[0;34m(self, amount)\u001b[0m\n\u001b[1;32m     18\u001b[0m         dollars.\"\"\"\n\u001b[1;32m     19\u001b[0m         \u001b[0;32mif\u001b[0m \u001b[0mamount\u001b[0m \u001b[0;34m>\u001b[0m \u001b[0mself\u001b[0m\u001b[0;34m.\u001b[0m\u001b[0mbalance\u001b[0m\u001b[0;34m:\u001b[0m\u001b[0;34m\u001b[0m\u001b[0m\n\u001b[0;32m---> 20\u001b[0;31m             \u001b[0;32mraise\u001b[0m \u001b[0mRuntimeError\u001b[0m\u001b[0;34m(\u001b[0m\u001b[0;34m'Amount greater than available balance.'\u001b[0m\u001b[0;34m)\u001b[0m\u001b[0;34m\u001b[0m\u001b[0m\n\u001b[0m\u001b[1;32m     21\u001b[0m         \u001b[0mself\u001b[0m\u001b[0;34m.\u001b[0m\u001b[0mbalance\u001b[0m \u001b[0;34m-=\u001b[0m \u001b[0mamount\u001b[0m\u001b[0;34m\u001b[0m\u001b[0m\n\u001b[1;32m     22\u001b[0m         \u001b[0;32mreturn\u001b[0m \u001b[0mself\u001b[0m\u001b[0;34m.\u001b[0m\u001b[0mbalance\u001b[0m\u001b[0;34m\u001b[0m\u001b[0m\n",
      "\u001b[0;31mRuntimeError\u001b[0m: Amount greater than available balance."
     ]
    }
   ],
   "source": [
    "customer.withdraw(500000000)"
   ]
  },
  {
   "cell_type": "code",
   "execution_count": null,
   "metadata": {},
   "outputs": [],
   "source": [
    "customer.withdraw(5000)"
   ]
  },
  {
   "cell_type": "code",
   "execution_count": null,
   "metadata": {},
   "outputs": [],
   "source": [
    "# Example of class attributes\n",
    "class Car(object):\n",
    "\n",
    "    wheels = 4  # class attributes\n",
    "\n",
    "    def __init__(self, make, model):\n",
    "        self.make = make\n",
    "        self.model = model\n",
    "\n",
    "mustang = Car('Ford', 'Mustang')\n",
    "print(mustang.wheels) # we can access it with intance variablea\n",
    "# 4\n",
    "print(Car.wheels) # or directly using the Class name\n",
    "# 4 "
   ]
  },
  {
   "cell_type": "code",
   "execution_count": null,
   "metadata": {},
   "outputs": [],
   "source": [
    "# Example of static method\n",
    "class Car(object):\n",
    "    def make_car_sound():  #static method\n",
    "        print('VRooooommmm!')\n",
    "\n",
    "Car.make_car_sound()\n",
    "\n",
    "# to make your method more clear that this method should\n",
    "# not receive the instance as the first parameter\n",
    "# the @staticmethod decorator is used\n",
    "class Car1(object):\n",
    "    @staticmethod\n",
    "    def make_car_sound():\n",
    "        print('VRooooommmm!')\n"
   ]
  },
  {
   "cell_type": "code",
   "execution_count": null,
   "metadata": {},
   "outputs": [],
   "source": [
    "car = Car() \n",
    "car.make_car_sound()"
   ]
  },
  {
   "cell_type": "code",
   "execution_count": null,
   "metadata": {},
   "outputs": [],
   "source": [
    "car = Car1()\n",
    "Car1.make_car_sound()"
   ]
  },
  {
   "cell_type": "code",
   "execution_count": null,
   "metadata": {},
   "outputs": [],
   "source": [
    "class MyClass(object):\n",
    "    @staticmethod\n",
    "    def the_static_method(x):\n",
    "        print(x)\n",
    "\n",
    "MyClass.the_static_method(2)"
   ]
  },
  {
   "cell_type": "code",
   "execution_count": null,
   "metadata": {},
   "outputs": [],
   "source": [
    "#  class Vehicle_old(object):\n",
    "#      \"\"\"A vehicle for sale by Jeffco Car Dealership.\n",
    "#\n",
    "#      Attributes:\n",
    "#          wheels: An integer representing the number of wheels the vehicle has.\n",
    "#          miles: The integral number of miles driven on the vehicle.\n",
    "#          make: The make of the vehicle as a string.\n",
    "#          model: The model of the vehicle as a string.\n",
    "#          year: The integral year the vehicle was built.\n",
    "#          sold_on: The date the vehicle was sold.\n",
    "#      \"\"\"\n",
    "#\n",
    "#      base_sale_price = 0\n",
    "#\n",
    "#      def __init__(self, wheels, miles, make, model, year, sold_on):\n",
    "#          \"\"\"Return a new Vehicle object.\"\"\"\n",
    "#          self.wheels = wheels\n",
    "#          self.miles = miles\n",
    "#          self.make = make\n",
    "#          self.model = model\n",
    "#          self.year = year\n",
    "#          self.sold_on = sold_on\n",
    "#\n",
    "#\n",
    "#      def sale_price(self):\n",
    "#          \"\"\"Return the sale price for this vehicle as a float amount.\"\"\"\n",
    "#          if self.sold_on is not None:\n",
    "#              return 0.0  # Already sold\n",
    "#          return 5000.0 * self.wheels\n",
    "#\n",
    "#      def purchase_price(self):\n",
    "#          \"\"\"Return the price for which we would pay to purchase the vehicle.\"\"\"\n",
    "#          if self.sold_on is None:\n",
    "#              return 0.0  # Not yet sold\n",
    "#          return self.base_sale_price - (.10 * self.miles)\n",
    "#\n",
    "#  class Car(Vehicle):\n",
    "#\n",
    "#      def __init__(self, wheels, miles, make, model, year, sold_on):\n",
    "#          \"\"\"Return a new Car object.\"\"\"\n",
    "#          self.wheels = wheels\n",
    "#          self.miles = miles\n",
    "#          self.make = make\n",
    "#          self.model = model\n",
    "#          self.year = year\n",
    "#          self.sold_on = sold_on\n",
    "#          self.base_sale_price = 8000\n",
    "#  class Truck(Vehicle):\n",
    "#\n",
    "#      def __init__(self, wheels, miles, make, model, year, sold_on):\n",
    "#          \"\"\"Return a new Truck object.\"\"\"\n",
    "#          self.wheels = wheels\n",
    "#          self.miles = miles\n",
    "#          self.make = make\n",
    "#          self.model = model\n",
    "#          self.year = year\n",
    "#          self.sold_on = sold_on\n",
    "#          self.base_sale_price = 10000\n",
    "#\n",
    "#  v = Vehicle(4, 0, 'Honda', 'Accord', 2014, None) # error vehicle object\n",
    "#  print(v.purchase_price())"
   ]
  },
  {
   "cell_type": "code",
   "execution_count": 21,
   "metadata": {},
   "outputs": [],
   "source": [
    "from abc import ABCMeta, abstractmethod\n",
    "\n",
    "class Vehicle(object):\n",
    "    \"\"\"A vehicle for sale by Jeffco Car Dealership.\n",
    "\n",
    "\n",
    "    Attributes:\n",
    "        wheels: An integer representing the number of wheels the vehicle has.\n",
    "        miles: The integral number of miles driven on the vehicle.\n",
    "        make: The make of the vehicle as a string.\n",
    "        model: The model of the vehicle as a string.\n",
    "        year: The integral year the vehicle was built.\n",
    "        sold_on: The date the vehicle was sold.\n",
    "    \"\"\"\n",
    "\n",
    "    __metaclass__ = ABCMeta\n",
    "\n",
    "    base_sale_price = 0\n",
    "\n",
    "    def sale_price(self):\n",
    "        \"\"\"Return the sale price for this vehicle as a float amount.\"\"\"\n",
    "        if self.sold_on is not None:\n",
    "            return 0.0  # Already sold\n",
    "        return 5000.0 * self.wheels\n",
    "\n",
    "    def purchase_price(self):\n",
    "        \"\"\"Return the price for which we would pay to purchase the vehicle.\"\"\"\n",
    "        if self.sold_on is None:\n",
    "            return 0.0  # Not yet sold\n",
    "        return self.base_sale_price - (.10 * self.miles)\n",
    "\n",
    "    @abstractmethod\n",
    "    def vehicle_type():\n",
    "        \"\"\"\"Return a string representing the type of vehicle this is.\"\"\"\n",
    "        pass"
   ]
  },
  {
   "cell_type": "code",
   "execution_count": 22,
   "metadata": {},
   "outputs": [
    {
     "ename": "TypeError",
     "evalue": "object() takes no parameters",
     "output_type": "error",
     "traceback": [
      "\u001b[0;31m---------------------------------------------------------------------------\u001b[0m",
      "\u001b[0;31mTypeError\u001b[0m                                 Traceback (most recent call last)",
      "\u001b[0;32m<ipython-input-22-62a52a31d26d>\u001b[0m in \u001b[0;36m<module>\u001b[0;34m()\u001b[0m\n\u001b[0;32m----> 1\u001b[0;31m \u001b[0mv\u001b[0m \u001b[0;34m=\u001b[0m \u001b[0mVehicle\u001b[0m\u001b[0;34m(\u001b[0m\u001b[0;36m4\u001b[0m\u001b[0;34m,\u001b[0m \u001b[0;36m0\u001b[0m\u001b[0;34m,\u001b[0m \u001b[0;34m'Honda'\u001b[0m\u001b[0;34m,\u001b[0m \u001b[0;34m'Accord'\u001b[0m\u001b[0;34m,\u001b[0m \u001b[0;36m2014\u001b[0m\u001b[0;34m,\u001b[0m \u001b[0;32mNone\u001b[0m\u001b[0;34m)\u001b[0m  \u001b[0;31m# since the class is Abstract Base Class now\u001b[0m\u001b[0;34m\u001b[0m\u001b[0m\n\u001b[0m",
      "\u001b[0;31mTypeError\u001b[0m: object() takes no parameters"
     ]
    }
   ],
   "source": [
    "v = Vehicle(4, 0, 'Honda', 'Accord', 2014, None)  # since the class is Abstract Base Class now"
   ]
  },
  {
   "cell_type": "code",
   "execution_count": 23,
   "metadata": {},
   "outputs": [],
   "source": [
    "class Car(Vehicle):\n",
    "    \"\"\"A car for sale by Jeffco Car Dealership.\"\"\"\n",
    "\n",
    "    base_sale_price = 8000\n",
    "    wheels = 4\n",
    "\n",
    "    def vehicle_type(self):\n",
    "        \"\"\"\"Return a string representing the type of vehicle this is.\"\"\"\n",
    "        return 'car'\n",
    "\n",
    "class Truck(Vehicle):\n",
    "    \"\"\"A truck for sale by Jeffco Car Dealership.\"\"\"\n",
    "\n",
    "    base_sale_price = 10000\n",
    "    wheels = 4\n",
    "\n",
    "    def vehicle_type(self):\n",
    "        \"\"\"\"Return a string representing the type of vehicle this is.\"\"\"\n",
    "        return 'truck'"
   ]
  },
  {
   "cell_type": "code",
   "execution_count": null,
   "metadata": {},
   "outputs": [],
   "source": []
  }
 ],
 "metadata": {
  "kernelspec": {
   "display_name": "Python 3",
   "language": "python",
   "name": "python3"
  },
  "language_info": {
   "codemirror_mode": {
    "name": "ipython",
    "version": 3
   },
   "file_extension": ".py",
   "mimetype": "text/x-python",
   "name": "python",
   "nbconvert_exporter": "python",
   "pygments_lexer": "ipython3",
   "version": "3.6.0"
  }
 },
 "nbformat": 4,
 "nbformat_minor": 2
}
